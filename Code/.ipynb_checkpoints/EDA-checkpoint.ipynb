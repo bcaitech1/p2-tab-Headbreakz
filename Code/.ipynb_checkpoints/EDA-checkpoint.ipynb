{
 "cells": [
  {
   "cell_type": "markdown",
   "metadata": {},
   "source": [
    "# 1. 문제 개요"
   ]
  },
  {
   "cell_type": "markdown",
   "metadata": {},
   "source": [
    "### 온라인 거래를 이용하는 고객들이 많이 늘어나고 있어 고객들의 log 데이터가 많이 늘어나고 있다. 온라인 고객 log 데이터응 이용하여, **고객들의 미래 소비**를 예측한다. 더 나아가 **12월을 대상**으로 고객들에게 프로모션을 통해 성공적인 마케팅을 하기 위해 모델을 만든다\n",
    "\n",
    "### 5914명의 2009년 12월 ~ 2011년 11월 데이터를 이용하여 각 고객들의 2011년 12월의 총 구매액이 300을 넘을지의 확률값을 예측하는 이진 분류 문제"
   ]
  },
  {
   "cell_type": "markdown",
   "metadata": {},
   "source": [
    "# 2. 평가 방법"
   ]
  },
  {
   "cell_type": "markdown",
   "metadata": {},
   "source": [
    "### 평가 metric는 AUC로 가능한 모든 분류 임계값에서 성능의 집계 측정값을 제공한다. "
   ]
  },
  {
   "cell_type": "markdown",
   "metadata": {},
   "source": [
    "# 3. 데이터 설명"
   ]
  },
  {
   "cell_type": "markdown",
   "metadata": {},
   "source": [
    "### 고객들의 구입이 이루어질 때 1개의 데이터가 생성이 되며, 다음과 같은 피쳐들로 2009년 12월 부터 2011년 11월 데이터까지 학습 데이터셋으로 주어진다.\n",
    "\n",
    "### 1. 고객에 대한 정보(고객 id / 고객 거주 국가)\n",
    "\n",
    "### 2. 상품 정보(상품 id / 상품 설명 / 상품 가격)\n",
    "\n",
    "### 3. 거래 정보(주문 일자 / 상품 수량)\n",
    "\n",
    "## 데이터 컬럼 설명\n",
    "\n",
    "### order_id : 주문 번호. 데이터에서 같은 주문번호는 동일 주문을 나타냄\n",
    "\n",
    "### product_id : 상품 번호\n",
    "\n",
    "### description : 상품 설명\n",
    "\n",
    "### quantity : 상품 주문 수량\n",
    "\n",
    "### order_date : 주문 일자\n",
    "\n",
    "### price : 상품 가격\n",
    "\n",
    "### customer_id : 고객 번호\n",
    "\n",
    "### country : 고객 거주 국가\n",
    "\n",
    "### total : 총 구매액(quantity X price)"
   ]
  },
  {
   "cell_type": "markdown",
   "metadata": {},
   "source": [
    "---\n",
    "### Unique Customer_id : 5914명\n",
    "\n",
    "### Customer 당 로그 수 : 1개 ~ 12714개"
   ]
  },
  {
   "cell_type": "markdown",
   "metadata": {},
   "source": [
    "# 4. 데이터 분석"
   ]
  },
  {
   "cell_type": "code",
   "execution_count": 1,
   "metadata": {},
   "outputs": [],
   "source": [
    "#필요 라이브러리\n",
    "import numpy as np\n",
    "import pandas as pd\n",
    "import matplotlib.pyplot as plt\n",
    "import seaborn as sns\n",
    "\n",
    "import datetime\n",
    "import dateutil.relativedelta\n",
    "\n",
    "import requests\n",
    "from urllib.parse import quote_plus\n",
    "from bs4 import BeautifulSoup\n",
    "from selenium import webdriver"
   ]
  },
  {
   "cell_type": "code",
   "execution_count": 36,
   "metadata": {
    "jupyter": {
     "source_hidden": true
    },
    "tags": []
   },
   "outputs": [],
   "source": [
    "plt.rcParams[\"figure.figsize\"] = (15,5)\n",
    "plt.rcParams['lines.linewidth'] = 4"
   ]
  },
  {
   "cell_type": "code",
   "execution_count": 40,
   "metadata": {
    "jupyter": {
     "source_hidden": true
    },
    "tags": []
   },
   "outputs": [
    {
     "data": {
      "text/html": [
       "<div>\n",
       "<style scoped>\n",
       "    .dataframe tbody tr th:only-of-type {\n",
       "        vertical-align: middle;\n",
       "    }\n",
       "\n",
       "    .dataframe tbody tr th {\n",
       "        vertical-align: top;\n",
       "    }\n",
       "\n",
       "    .dataframe thead th {\n",
       "        text-align: right;\n",
       "    }\n",
       "</style>\n",
       "<table border=\"1\" class=\"dataframe\">\n",
       "  <thead>\n",
       "    <tr style=\"text-align: right;\">\n",
       "      <th></th>\n",
       "      <th>order_id</th>\n",
       "      <th>product_id</th>\n",
       "      <th>description</th>\n",
       "      <th>quantity</th>\n",
       "      <th>order_date</th>\n",
       "      <th>price</th>\n",
       "      <th>customer_id</th>\n",
       "      <th>country</th>\n",
       "      <th>total</th>\n",
       "    </tr>\n",
       "  </thead>\n",
       "  <tbody>\n",
       "    <tr>\n",
       "      <th>0</th>\n",
       "      <td>489434</td>\n",
       "      <td>85048</td>\n",
       "      <td>15CM CHRISTMAS GLASS BALL 20 LIGHTS</td>\n",
       "      <td>12</td>\n",
       "      <td>2009-12-01 07:45:00</td>\n",
       "      <td>11.4675</td>\n",
       "      <td>13085</td>\n",
       "      <td>United Kingdom</td>\n",
       "      <td>137.61</td>\n",
       "    </tr>\n",
       "    <tr>\n",
       "      <th>1</th>\n",
       "      <td>489434</td>\n",
       "      <td>79323P</td>\n",
       "      <td>PINK CHERRY LIGHTS</td>\n",
       "      <td>12</td>\n",
       "      <td>2009-12-01 07:45:00</td>\n",
       "      <td>11.1375</td>\n",
       "      <td>13085</td>\n",
       "      <td>United Kingdom</td>\n",
       "      <td>133.65</td>\n",
       "    </tr>\n",
       "    <tr>\n",
       "      <th>2</th>\n",
       "      <td>489434</td>\n",
       "      <td>79323W</td>\n",
       "      <td>WHITE CHERRY LIGHTS</td>\n",
       "      <td>12</td>\n",
       "      <td>2009-12-01 07:45:00</td>\n",
       "      <td>11.1375</td>\n",
       "      <td>13085</td>\n",
       "      <td>United Kingdom</td>\n",
       "      <td>133.65</td>\n",
       "    </tr>\n",
       "    <tr>\n",
       "      <th>3</th>\n",
       "      <td>489434</td>\n",
       "      <td>22041</td>\n",
       "      <td>RECORD FRAME 7\" SINGLE SIZE</td>\n",
       "      <td>48</td>\n",
       "      <td>2009-12-01 07:45:00</td>\n",
       "      <td>3.4650</td>\n",
       "      <td>13085</td>\n",
       "      <td>United Kingdom</td>\n",
       "      <td>166.32</td>\n",
       "    </tr>\n",
       "    <tr>\n",
       "      <th>4</th>\n",
       "      <td>489434</td>\n",
       "      <td>21232</td>\n",
       "      <td>STRAWBERRY CERAMIC TRINKET BOX</td>\n",
       "      <td>24</td>\n",
       "      <td>2009-12-01 07:45:00</td>\n",
       "      <td>2.0625</td>\n",
       "      <td>13085</td>\n",
       "      <td>United Kingdom</td>\n",
       "      <td>49.50</td>\n",
       "    </tr>\n",
       "  </tbody>\n",
       "</table>\n",
       "</div>"
      ],
      "text/plain": [
       "  order_id product_id                          description  quantity  \\\n",
       "0   489434      85048  15CM CHRISTMAS GLASS BALL 20 LIGHTS        12   \n",
       "1   489434     79323P                   PINK CHERRY LIGHTS        12   \n",
       "2   489434     79323W                  WHITE CHERRY LIGHTS        12   \n",
       "3   489434      22041         RECORD FRAME 7\" SINGLE SIZE         48   \n",
       "4   489434      21232       STRAWBERRY CERAMIC TRINKET BOX        24   \n",
       "\n",
       "           order_date    price  customer_id         country   total  \n",
       "0 2009-12-01 07:45:00  11.4675        13085  United Kingdom  137.61  \n",
       "1 2009-12-01 07:45:00  11.1375        13085  United Kingdom  133.65  \n",
       "2 2009-12-01 07:45:00  11.1375        13085  United Kingdom  133.65  \n",
       "3 2009-12-01 07:45:00   3.4650        13085  United Kingdom  166.32  \n",
       "4 2009-12-01 07:45:00   2.0625        13085  United Kingdom   49.50  "
      ]
     },
     "execution_count": 40,
     "metadata": {},
     "output_type": "execute_result"
    }
   ],
   "source": [
    "#csv 파일 불러오기\n",
    "data = pd.read_csv('./code/input/train.csv',parse_dates=[\"order_date\"])\n",
    "data.head()"
   ]
  },
  {
   "cell_type": "code",
   "execution_count": 41,
   "metadata": {
    "jupyter": {
     "source_hidden": true
    },
    "tags": []
   },
   "outputs": [
    {
     "name": "stdout",
     "output_type": "stream",
     "text": [
      "<class 'pandas.core.frame.DataFrame'>\n",
      "RangeIndex: 780502 entries, 0 to 780501\n",
      "Data columns (total 9 columns):\n",
      " #   Column       Non-Null Count   Dtype         \n",
      "---  ------       --------------   -----         \n",
      " 0   order_id     780502 non-null  object        \n",
      " 1   product_id   780502 non-null  object        \n",
      " 2   description  780502 non-null  object        \n",
      " 3   quantity     780502 non-null  int64         \n",
      " 4   order_date   780502 non-null  datetime64[ns]\n",
      " 5   price        780502 non-null  float64       \n",
      " 6   customer_id  780502 non-null  int64         \n",
      " 7   country      780502 non-null  object        \n",
      " 8   total        780502 non-null  float64       \n",
      "dtypes: datetime64[ns](1), float64(2), int64(2), object(4)\n",
      "memory usage: 53.6+ MB\n"
     ]
    }
   ],
   "source": [
    "data.info()"
   ]
  },
  {
   "cell_type": "code",
   "execution_count": 3,
   "metadata": {
    "jupyter": {
     "source_hidden": true
    },
    "tags": []
   },
   "outputs": [
    {
     "name": "stdout",
     "output_type": "stream",
     "text": [
      "Unique Customer id : 5914\n",
      "Unique Product id : 4645\n",
      "Unique description : 5297\n"
     ]
    }
   ],
   "source": [
    "# Unique value 확인\n",
    "print('Unique Customer id :',len(data['customer_id'].unique()))\n",
    "print('Unique Product id :',len(data['product_id'].unique()))\n",
    "print('Unique description :',len(data['description'].unique()))"
   ]
  },
  {
   "cell_type": "markdown",
   "metadata": {},
   "source": [
    "## 4.1 Product id 이상 데이터"
   ]
  },
  {
   "cell_type": "markdown",
   "metadata": {},
   "source": [
    "#### 주어진 데이터의 Product_id를 살펴 볼 경우, Description에 설명이 없이 특정한 값을 보이는 Product_id를 발견했다. 총 12개의 값을 발견하였고,\n",
    "#### 이를 데이터에서 제거 할 경우 총 780501개에서 776976개로 3524개가 삭제되었다. \n"
   ]
  },
  {
   "cell_type": "code",
   "execution_count": 8,
   "metadata": {
    "tags": []
   },
   "outputs": [],
   "source": [
    "Product_data=['POST','M','D','TEST001','TEST002','BANK CHARGES','ADJUST2','CRUK','C2','DOT','PADS']"
   ]
  },
  {
   "cell_type": "code",
   "execution_count": 9,
   "metadata": {},
   "outputs": [
    {
     "data": {
      "text/html": [
       "<div>\n",
       "<style scoped>\n",
       "    .dataframe tbody tr th:only-of-type {\n",
       "        vertical-align: middle;\n",
       "    }\n",
       "\n",
       "    .dataframe tbody tr th {\n",
       "        vertical-align: top;\n",
       "    }\n",
       "\n",
       "    .dataframe thead th {\n",
       "        text-align: right;\n",
       "    }\n",
       "</style>\n",
       "<table border=\"1\" class=\"dataframe\">\n",
       "  <thead>\n",
       "    <tr style=\"text-align: right;\">\n",
       "      <th></th>\n",
       "      <th>order_id</th>\n",
       "      <th>product_id</th>\n",
       "      <th>description</th>\n",
       "      <th>quantity</th>\n",
       "      <th>order_date</th>\n",
       "      <th>price</th>\n",
       "      <th>customer_id</th>\n",
       "      <th>country</th>\n",
       "      <th>total</th>\n",
       "    </tr>\n",
       "  </thead>\n",
       "  <tbody>\n",
       "    <tr>\n",
       "      <th>0</th>\n",
       "      <td>489434</td>\n",
       "      <td>85048</td>\n",
       "      <td>15CM CHRISTMAS GLASS BALL 20 LIGHTS</td>\n",
       "      <td>12</td>\n",
       "      <td>2009-12-01 07:45:00</td>\n",
       "      <td>11.4675</td>\n",
       "      <td>13085</td>\n",
       "      <td>United Kingdom</td>\n",
       "      <td>137.6100</td>\n",
       "    </tr>\n",
       "    <tr>\n",
       "      <th>1</th>\n",
       "      <td>489434</td>\n",
       "      <td>79323P</td>\n",
       "      <td>PINK CHERRY LIGHTS</td>\n",
       "      <td>12</td>\n",
       "      <td>2009-12-01 07:45:00</td>\n",
       "      <td>11.1375</td>\n",
       "      <td>13085</td>\n",
       "      <td>United Kingdom</td>\n",
       "      <td>133.6500</td>\n",
       "    </tr>\n",
       "    <tr>\n",
       "      <th>2</th>\n",
       "      <td>489434</td>\n",
       "      <td>79323W</td>\n",
       "      <td>WHITE CHERRY LIGHTS</td>\n",
       "      <td>12</td>\n",
       "      <td>2009-12-01 07:45:00</td>\n",
       "      <td>11.1375</td>\n",
       "      <td>13085</td>\n",
       "      <td>United Kingdom</td>\n",
       "      <td>133.6500</td>\n",
       "    </tr>\n",
       "    <tr>\n",
       "      <th>3</th>\n",
       "      <td>489434</td>\n",
       "      <td>22041</td>\n",
       "      <td>RECORD FRAME 7\" SINGLE SIZE</td>\n",
       "      <td>48</td>\n",
       "      <td>2009-12-01 07:45:00</td>\n",
       "      <td>3.4650</td>\n",
       "      <td>13085</td>\n",
       "      <td>United Kingdom</td>\n",
       "      <td>166.3200</td>\n",
       "    </tr>\n",
       "    <tr>\n",
       "      <th>4</th>\n",
       "      <td>489434</td>\n",
       "      <td>21232</td>\n",
       "      <td>STRAWBERRY CERAMIC TRINKET BOX</td>\n",
       "      <td>24</td>\n",
       "      <td>2009-12-01 07:45:00</td>\n",
       "      <td>2.0625</td>\n",
       "      <td>13085</td>\n",
       "      <td>United Kingdom</td>\n",
       "      <td>49.5000</td>\n",
       "    </tr>\n",
       "    <tr>\n",
       "      <th>...</th>\n",
       "      <td>...</td>\n",
       "      <td>...</td>\n",
       "      <td>...</td>\n",
       "      <td>...</td>\n",
       "      <td>...</td>\n",
       "      <td>...</td>\n",
       "      <td>...</td>\n",
       "      <td>...</td>\n",
       "      <td>...</td>\n",
       "    </tr>\n",
       "    <tr>\n",
       "      <th>780497</th>\n",
       "      <td>C579886</td>\n",
       "      <td>22197</td>\n",
       "      <td>POPCORN HOLDER</td>\n",
       "      <td>-1</td>\n",
       "      <td>2011-11-30 17:39:00</td>\n",
       "      <td>1.4025</td>\n",
       "      <td>15676</td>\n",
       "      <td>United Kingdom</td>\n",
       "      <td>-1.4025</td>\n",
       "    </tr>\n",
       "    <tr>\n",
       "      <th>780498</th>\n",
       "      <td>C579886</td>\n",
       "      <td>23146</td>\n",
       "      <td>TRIPLE HOOK ANTIQUE IVORY ROSE</td>\n",
       "      <td>-1</td>\n",
       "      <td>2011-11-30 17:39:00</td>\n",
       "      <td>5.4285</td>\n",
       "      <td>15676</td>\n",
       "      <td>United Kingdom</td>\n",
       "      <td>-5.4285</td>\n",
       "    </tr>\n",
       "    <tr>\n",
       "      <th>780499</th>\n",
       "      <td>C579887</td>\n",
       "      <td>84946</td>\n",
       "      <td>ANTIQUE SILVER T-LIGHT GLASS</td>\n",
       "      <td>-1</td>\n",
       "      <td>2011-11-30 17:42:00</td>\n",
       "      <td>2.0625</td>\n",
       "      <td>16717</td>\n",
       "      <td>United Kingdom</td>\n",
       "      <td>-2.0625</td>\n",
       "    </tr>\n",
       "    <tr>\n",
       "      <th>780500</th>\n",
       "      <td>C579887</td>\n",
       "      <td>85048</td>\n",
       "      <td>15CM CHRISTMAS GLASS BALL 20 LIGHTS</td>\n",
       "      <td>-1</td>\n",
       "      <td>2011-11-30 17:42:00</td>\n",
       "      <td>13.1175</td>\n",
       "      <td>16717</td>\n",
       "      <td>United Kingdom</td>\n",
       "      <td>-13.1175</td>\n",
       "    </tr>\n",
       "    <tr>\n",
       "      <th>780501</th>\n",
       "      <td>C579887</td>\n",
       "      <td>23490</td>\n",
       "      <td>T-LIGHT HOLDER HANGING LOVE BIRD</td>\n",
       "      <td>-3</td>\n",
       "      <td>2011-11-30 17:42:00</td>\n",
       "      <td>6.1875</td>\n",
       "      <td>16717</td>\n",
       "      <td>United Kingdom</td>\n",
       "      <td>-18.5625</td>\n",
       "    </tr>\n",
       "  </tbody>\n",
       "</table>\n",
       "<p>776976 rows × 9 columns</p>\n",
       "</div>"
      ],
      "text/plain": [
       "       order_id product_id                          description  quantity  \\\n",
       "0        489434      85048  15CM CHRISTMAS GLASS BALL 20 LIGHTS        12   \n",
       "1        489434     79323P                   PINK CHERRY LIGHTS        12   \n",
       "2        489434     79323W                  WHITE CHERRY LIGHTS        12   \n",
       "3        489434      22041         RECORD FRAME 7\" SINGLE SIZE         48   \n",
       "4        489434      21232       STRAWBERRY CERAMIC TRINKET BOX        24   \n",
       "...         ...        ...                                  ...       ...   \n",
       "780497  C579886      22197                       POPCORN HOLDER        -1   \n",
       "780498  C579886      23146       TRIPLE HOOK ANTIQUE IVORY ROSE        -1   \n",
       "780499  C579887      84946         ANTIQUE SILVER T-LIGHT GLASS        -1   \n",
       "780500  C579887      85048  15CM CHRISTMAS GLASS BALL 20 LIGHTS        -1   \n",
       "780501  C579887      23490     T-LIGHT HOLDER HANGING LOVE BIRD        -3   \n",
       "\n",
       "                order_date    price  customer_id         country     total  \n",
       "0      2009-12-01 07:45:00  11.4675        13085  United Kingdom  137.6100  \n",
       "1      2009-12-01 07:45:00  11.1375        13085  United Kingdom  133.6500  \n",
       "2      2009-12-01 07:45:00  11.1375        13085  United Kingdom  133.6500  \n",
       "3      2009-12-01 07:45:00   3.4650        13085  United Kingdom  166.3200  \n",
       "4      2009-12-01 07:45:00   2.0625        13085  United Kingdom   49.5000  \n",
       "...                    ...      ...          ...             ...       ...  \n",
       "780497 2011-11-30 17:39:00   1.4025        15676  United Kingdom   -1.4025  \n",
       "780498 2011-11-30 17:39:00   5.4285        15676  United Kingdom   -5.4285  \n",
       "780499 2011-11-30 17:42:00   2.0625        16717  United Kingdom   -2.0625  \n",
       "780500 2011-11-30 17:42:00  13.1175        16717  United Kingdom  -13.1175  \n",
       "780501 2011-11-30 17:42:00   6.1875        16717  United Kingdom  -18.5625  \n",
       "\n",
       "[776976 rows x 9 columns]"
      ]
     },
     "execution_count": 9,
     "metadata": {},
     "output_type": "execute_result"
    }
   ],
   "source": [
    "data[~data.product_id.isin(Product_data)]"
   ]
  },
  {
   "cell_type": "markdown",
   "metadata": {},
   "source": [
    "## 4.2 비슷한 Product id "
   ]
  },
  {
   "cell_type": "markdown",
   "metadata": {},
   "source": [
    "#### Product_id에는 비슷한 id를 가지는 값을 볼 수 있는데, 예를 들어 90200A와 90200B는 색상만 다른 제품으로 같은 분류의 제품임을 확인 할 수 있다."
   ]
  },
  {
   "cell_type": "code",
   "execution_count": 10,
   "metadata": {
    "jupyter": {
     "source_hidden": true
    },
    "tags": []
   },
   "outputs": [
    {
     "data": {
      "text/html": [
       "<div>\n",
       "<style scoped>\n",
       "    .dataframe tbody tr th:only-of-type {\n",
       "        vertical-align: middle;\n",
       "    }\n",
       "\n",
       "    .dataframe tbody tr th {\n",
       "        vertical-align: top;\n",
       "    }\n",
       "\n",
       "    .dataframe thead th {\n",
       "        text-align: right;\n",
       "    }\n",
       "</style>\n",
       "<table border=\"1\" class=\"dataframe\">\n",
       "  <thead>\n",
       "    <tr style=\"text-align: right;\">\n",
       "      <th></th>\n",
       "      <th>order_id</th>\n",
       "      <th>product_id</th>\n",
       "      <th>description</th>\n",
       "      <th>quantity</th>\n",
       "      <th>order_date</th>\n",
       "      <th>price</th>\n",
       "      <th>customer_id</th>\n",
       "      <th>country</th>\n",
       "      <th>total</th>\n",
       "    </tr>\n",
       "  </thead>\n",
       "  <tbody>\n",
       "    <tr>\n",
       "      <th>196</th>\n",
       "      <td>C489459</td>\n",
       "      <td>90200A</td>\n",
       "      <td>PURPLE SWEETHEART BRACELET</td>\n",
       "      <td>-3</td>\n",
       "      <td>2009-12-01 10:44:00</td>\n",
       "      <td>7.0125</td>\n",
       "      <td>17592</td>\n",
       "      <td>United Kingdom</td>\n",
       "      <td>-21.0375</td>\n",
       "    </tr>\n",
       "    <tr>\n",
       "      <th>252</th>\n",
       "      <td>489462</td>\n",
       "      <td>90200A</td>\n",
       "      <td>PURPLE SWEETHEART BRACELET</td>\n",
       "      <td>3</td>\n",
       "      <td>2009-12-01 10:49:00</td>\n",
       "      <td>7.0125</td>\n",
       "      <td>17592</td>\n",
       "      <td>United Kingdom</td>\n",
       "      <td>21.0375</td>\n",
       "    </tr>\n",
       "  </tbody>\n",
       "</table>\n",
       "</div>"
      ],
      "text/plain": [
       "    order_id product_id                 description  quantity  \\\n",
       "196  C489459     90200A  PURPLE SWEETHEART BRACELET        -3   \n",
       "252   489462     90200A  PURPLE SWEETHEART BRACELET         3   \n",
       "\n",
       "             order_date   price  customer_id         country    total  \n",
       "196 2009-12-01 10:44:00  7.0125        17592  United Kingdom -21.0375  \n",
       "252 2009-12-01 10:49:00  7.0125        17592  United Kingdom  21.0375  "
      ]
     },
     "execution_count": 10,
     "metadata": {},
     "output_type": "execute_result"
    }
   ],
   "source": [
    "data[data['product_id'] =='90200A'].head(2)"
   ]
  },
  {
   "cell_type": "code",
   "execution_count": 11,
   "metadata": {
    "jupyter": {
     "source_hidden": true
    },
    "tags": []
   },
   "outputs": [
    {
     "data": {
      "text/html": [
       "<div>\n",
       "<style scoped>\n",
       "    .dataframe tbody tr th:only-of-type {\n",
       "        vertical-align: middle;\n",
       "    }\n",
       "\n",
       "    .dataframe tbody tr th {\n",
       "        vertical-align: top;\n",
       "    }\n",
       "\n",
       "    .dataframe thead th {\n",
       "        text-align: right;\n",
       "    }\n",
       "</style>\n",
       "<table border=\"1\" class=\"dataframe\">\n",
       "  <thead>\n",
       "    <tr style=\"text-align: right;\">\n",
       "      <th></th>\n",
       "      <th>order_id</th>\n",
       "      <th>product_id</th>\n",
       "      <th>description</th>\n",
       "      <th>quantity</th>\n",
       "      <th>order_date</th>\n",
       "      <th>price</th>\n",
       "      <th>customer_id</th>\n",
       "      <th>country</th>\n",
       "      <th>total</th>\n",
       "    </tr>\n",
       "  </thead>\n",
       "  <tbody>\n",
       "    <tr>\n",
       "      <th>198</th>\n",
       "      <td>C489459</td>\n",
       "      <td>90200B</td>\n",
       "      <td>BLACK SWEETHEART BRACELET</td>\n",
       "      <td>-3</td>\n",
       "      <td>2009-12-01 10:44:00</td>\n",
       "      <td>7.0125</td>\n",
       "      <td>17592</td>\n",
       "      <td>United Kingdom</td>\n",
       "      <td>-21.0375</td>\n",
       "    </tr>\n",
       "    <tr>\n",
       "      <th>254</th>\n",
       "      <td>489462</td>\n",
       "      <td>90200B</td>\n",
       "      <td>BLACK SWEETHEART BRACELET</td>\n",
       "      <td>3</td>\n",
       "      <td>2009-12-01 10:49:00</td>\n",
       "      <td>7.0125</td>\n",
       "      <td>17592</td>\n",
       "      <td>United Kingdom</td>\n",
       "      <td>21.0375</td>\n",
       "    </tr>\n",
       "  </tbody>\n",
       "</table>\n",
       "</div>"
      ],
      "text/plain": [
       "    order_id product_id                description  quantity  \\\n",
       "198  C489459     90200B  BLACK SWEETHEART BRACELET        -3   \n",
       "254   489462     90200B  BLACK SWEETHEART BRACELET         3   \n",
       "\n",
       "             order_date   price  customer_id         country    total  \n",
       "198 2009-12-01 10:44:00  7.0125        17592  United Kingdom -21.0375  \n",
       "254 2009-12-01 10:49:00  7.0125        17592  United Kingdom  21.0375  "
      ]
     },
     "execution_count": 11,
     "metadata": {},
     "output_type": "execute_result"
    }
   ],
   "source": [
    "data[data['product_id'] =='90200B'].head(2)"
   ]
  },
  {
   "cell_type": "code",
   "execution_count": 12,
   "metadata": {
    "jupyter": {
     "source_hidden": true
    },
    "tags": []
   },
   "outputs": [
    {
     "data": {
      "text/html": [
       "<div>\n",
       "<style scoped>\n",
       "    .dataframe tbody tr th:only-of-type {\n",
       "        vertical-align: middle;\n",
       "    }\n",
       "\n",
       "    .dataframe tbody tr th {\n",
       "        vertical-align: top;\n",
       "    }\n",
       "\n",
       "    .dataframe thead th {\n",
       "        text-align: right;\n",
       "    }\n",
       "</style>\n",
       "<table border=\"1\" class=\"dataframe\">\n",
       "  <thead>\n",
       "    <tr style=\"text-align: right;\">\n",
       "      <th></th>\n",
       "      <th>order_id</th>\n",
       "      <th>product_id</th>\n",
       "      <th>description</th>\n",
       "      <th>quantity</th>\n",
       "      <th>order_date</th>\n",
       "      <th>price</th>\n",
       "      <th>customer_id</th>\n",
       "      <th>country</th>\n",
       "      <th>total</th>\n",
       "    </tr>\n",
       "  </thead>\n",
       "  <tbody>\n",
       "    <tr>\n",
       "      <th>200</th>\n",
       "      <td>C489459</td>\n",
       "      <td>90200C</td>\n",
       "      <td>BLUE SWEETHEART BRACELET</td>\n",
       "      <td>-3</td>\n",
       "      <td>2009-12-01 10:44:00</td>\n",
       "      <td>7.0125</td>\n",
       "      <td>17592</td>\n",
       "      <td>United Kingdom</td>\n",
       "      <td>-21.0375</td>\n",
       "    </tr>\n",
       "    <tr>\n",
       "      <th>253</th>\n",
       "      <td>489462</td>\n",
       "      <td>90200C</td>\n",
       "      <td>BLUE SWEETHEART BRACELET</td>\n",
       "      <td>3</td>\n",
       "      <td>2009-12-01 10:49:00</td>\n",
       "      <td>7.0125</td>\n",
       "      <td>17592</td>\n",
       "      <td>United Kingdom</td>\n",
       "      <td>21.0375</td>\n",
       "    </tr>\n",
       "  </tbody>\n",
       "</table>\n",
       "</div>"
      ],
      "text/plain": [
       "    order_id product_id               description  quantity  \\\n",
       "200  C489459     90200C  BLUE SWEETHEART BRACELET        -3   \n",
       "253   489462     90200C  BLUE SWEETHEART BRACELET         3   \n",
       "\n",
       "             order_date   price  customer_id         country    total  \n",
       "200 2009-12-01 10:44:00  7.0125        17592  United Kingdom -21.0375  \n",
       "253 2009-12-01 10:49:00  7.0125        17592  United Kingdom  21.0375  "
      ]
     },
     "execution_count": 12,
     "metadata": {},
     "output_type": "execute_result"
    }
   ],
   "source": [
    "data[data['product_id'] =='90200C'].head(2)"
   ]
  },
  {
   "cell_type": "code",
   "execution_count": 381,
   "metadata": {
    "jupyter": {
     "source_hidden": true
    },
    "tags": []
   },
   "outputs": [
    {
     "data": {
      "text/html": [
       "<div>\n",
       "<style scoped>\n",
       "    .dataframe tbody tr th:only-of-type {\n",
       "        vertical-align: middle;\n",
       "    }\n",
       "\n",
       "    .dataframe tbody tr th {\n",
       "        vertical-align: top;\n",
       "    }\n",
       "\n",
       "    .dataframe thead th {\n",
       "        text-align: right;\n",
       "    }\n",
       "</style>\n",
       "<table border=\"1\" class=\"dataframe\">\n",
       "  <thead>\n",
       "    <tr style=\"text-align: right;\">\n",
       "      <th></th>\n",
       "      <th>order_id</th>\n",
       "      <th>product_id</th>\n",
       "      <th>description</th>\n",
       "      <th>quantity</th>\n",
       "      <th>order_date</th>\n",
       "      <th>price</th>\n",
       "      <th>customer_id</th>\n",
       "      <th>country</th>\n",
       "      <th>total</th>\n",
       "    </tr>\n",
       "  </thead>\n",
       "  <tbody>\n",
       "    <tr>\n",
       "      <th>0</th>\n",
       "      <td>489434</td>\n",
       "      <td>85048</td>\n",
       "      <td>15CM CHRISTMAS GLASS BALL 20 LIGHTS</td>\n",
       "      <td>12</td>\n",
       "      <td>2009-12-01 07:45:00</td>\n",
       "      <td>11.4675</td>\n",
       "      <td>13085</td>\n",
       "      <td>United Kingdom</td>\n",
       "      <td>137.61</td>\n",
       "    </tr>\n",
       "    <tr>\n",
       "      <th>1</th>\n",
       "      <td>489434</td>\n",
       "      <td>79323</td>\n",
       "      <td>PINK CHERRY LIGHTS</td>\n",
       "      <td>12</td>\n",
       "      <td>2009-12-01 07:45:00</td>\n",
       "      <td>11.1375</td>\n",
       "      <td>13085</td>\n",
       "      <td>United Kingdom</td>\n",
       "      <td>133.65</td>\n",
       "    </tr>\n",
       "    <tr>\n",
       "      <th>2</th>\n",
       "      <td>489434</td>\n",
       "      <td>79323</td>\n",
       "      <td>WHITE CHERRY LIGHTS</td>\n",
       "      <td>12</td>\n",
       "      <td>2009-12-01 07:45:00</td>\n",
       "      <td>11.1375</td>\n",
       "      <td>13085</td>\n",
       "      <td>United Kingdom</td>\n",
       "      <td>133.65</td>\n",
       "    </tr>\n",
       "    <tr>\n",
       "      <th>3</th>\n",
       "      <td>489434</td>\n",
       "      <td>22041</td>\n",
       "      <td>RECORD FRAME 7\" SINGLE SIZE</td>\n",
       "      <td>48</td>\n",
       "      <td>2009-12-01 07:45:00</td>\n",
       "      <td>3.4650</td>\n",
       "      <td>13085</td>\n",
       "      <td>United Kingdom</td>\n",
       "      <td>166.32</td>\n",
       "    </tr>\n",
       "    <tr>\n",
       "      <th>4</th>\n",
       "      <td>489434</td>\n",
       "      <td>21232</td>\n",
       "      <td>STRAWBERRY CERAMIC TRINKET BOX</td>\n",
       "      <td>24</td>\n",
       "      <td>2009-12-01 07:45:00</td>\n",
       "      <td>2.0625</td>\n",
       "      <td>13085</td>\n",
       "      <td>United Kingdom</td>\n",
       "      <td>49.50</td>\n",
       "    </tr>\n",
       "  </tbody>\n",
       "</table>\n",
       "</div>"
      ],
      "text/plain": [
       "  order_id product_id                          description  quantity  \\\n",
       "0   489434      85048  15CM CHRISTMAS GLASS BALL 20 LIGHTS        12   \n",
       "1   489434      79323                   PINK CHERRY LIGHTS        12   \n",
       "2   489434      79323                  WHITE CHERRY LIGHTS        12   \n",
       "3   489434      22041         RECORD FRAME 7\" SINGLE SIZE         48   \n",
       "4   489434      21232       STRAWBERRY CERAMIC TRINKET BOX        24   \n",
       "\n",
       "           order_date    price  customer_id         country   total  \n",
       "0 2009-12-01 07:45:00  11.4675        13085  United Kingdom  137.61  \n",
       "1 2009-12-01 07:45:00  11.1375        13085  United Kingdom  133.65  \n",
       "2 2009-12-01 07:45:00  11.1375        13085  United Kingdom  133.65  \n",
       "3 2009-12-01 07:45:00   3.4650        13085  United Kingdom  166.32  \n",
       "4 2009-12-01 07:45:00   2.0625        13085  United Kingdom   49.50  "
      ]
     },
     "execution_count": 381,
     "metadata": {},
     "output_type": "execute_result"
    }
   ],
   "source": [
    "#비슷한 물건을 동일한 product id로 바꾸기 79323P , 79323W - > 79323으로 \n",
    "def slice_word(x):\n",
    "    return x[:5]\n",
    "data['product_id'] = data['product_id'].apply(slice_word)\n",
    "data[:5]"
   ]
  },
  {
   "cell_type": "markdown",
   "metadata": {},
   "source": [
    "## 4.3 상품 살펴보기"
   ]
  },
  {
   "cell_type": "markdown",
   "metadata": {},
   "source": [
    "#### 설명이 있는 제품은 총 5297개의 제품으로 대 분류를 설정하여 제품을 다시 나눌 수 있다. 대 분류는 Description에 많이 등장하는 단어를 기준으로 삼았으며, 총 61개로 분류를 하였다."
   ]
  },
  {
   "cell_type": "code",
   "execution_count": 17,
   "metadata": {
    "jupyter": {
     "source_hidden": true
    },
    "tags": []
   },
   "outputs": [
    {
     "data": {
      "text/plain": [
       "WHITE HANGING HEART T-LIGHT HOLDER    5096\n",
       "REGENCY CAKESTAND 3 TIER              3627\n",
       "JUMBO BAG RED RETROSPOT               2667\n",
       "ASSORTED COLOUR BIRD ORNAMENT         2667\n",
       "PARTY BUNTING                         2103\n",
       "                                      ... \n",
       "SCOTTIE DOGS CHILDRENS OVERALL           1\n",
       "S/6 SCANDINAVIAN HEART T-LIGHT           1\n",
       "6 HOOK JEWEL STAND LILAC DRESS           1\n",
       "GLASS BELL JAR LARGE                     1\n",
       "BIRD ON BRANCH CANVAS SCREEN             1\n",
       "Name: description, Length: 5297, dtype: int64"
      ]
     },
     "execution_count": 17,
     "metadata": {},
     "output_type": "execute_result"
    }
   ],
   "source": [
    "#description 살펴보기\n",
    "description_list = list(data['description'].value_counts().index)\n",
    "data['description'].value_counts()"
   ]
  },
  {
   "cell_type": "code",
   "execution_count": 22,
   "metadata": {
    "jupyter": {
     "source_hidden": true
    },
    "tags": []
   },
   "outputs": [
    {
     "data": {
      "text/plain": [
       "[('', 199950),\n",
       " ('BAG', 68279),\n",
       " ('SET', 68277),\n",
       " ('RED', 67903),\n",
       " ('OF', 67863),\n",
       " ('HEART', 57003),\n",
       " ('PINK', 44765),\n",
       " ('RETROSPOT', 44076),\n",
       " ('DESIGN', 41597),\n",
       " ('VINTAGE', 40992)]"
      ]
     },
     "execution_count": 22,
     "metadata": {},
     "output_type": "execute_result"
    }
   ],
   "source": [
    "data_description = {}\n",
    "for i in data['description']:\n",
    "    for i in i.split(' '):\n",
    "        if data_description.get(i) == None :\n",
    "            data_description[i] = 1\n",
    "        else :\n",
    "            data_description[i] +=1       \n",
    "sorted(data_description.items(), key = lambda item: item[1],reverse=True)[:10]"
   ]
  },
  {
   "cell_type": "code",
   "execution_count": 23,
   "metadata": {},
   "outputs": [],
   "source": [
    "#대 분류 기준\n",
    "product_list = ['BAG','BOX','CAKE','HOLDER','TEA','LIGHT','GLASS','CASES','CARD','BOTTLE','MUG','CREAM','DOORMAT','BOWL','DOOR','CANDLE','CUTLERY','CLOCK','DRAWER','STAND','TUBE','CHOCOLATE',\n",
    "             'WARMER','BLOCK','RECORD','DOUGHNUT','SPOON','ORNAMENT','CRAFT','PLATE','TRELLIS','FILIGREE','LETTER','FRAME','SIGN','MOBILE','DOLL','CUPS','LAMP','VINTAGE','KEY RING','UMBRELLA',\n",
    "             'FRYING PAN','WRAP','SEWING','PARTY','KIT','WREATH','GLOBE','NAPKIN','STICKER','COASTER','BRACELET','GLOVES','CUP','COVER','BAKING','WICKER','CHALKBOARD','PLASTERS']"
   ]
  },
  {
   "cell_type": "code",
   "execution_count": null,
   "metadata": {
    "jupyter": {
     "source_hidden": true
    },
    "tags": []
   },
   "outputs": [],
   "source": [
    "# description를 주어진 분류 목록에 맞게 바꾸기\n",
    "for i in product_list:\n",
    "    for j in range(len(data_description_list)):\n",
    "        if i in data_description_list.iloc[j] :\n",
    "            data_description_list.iloc[j] = i           \n",
    "for i in range(len(data_description_list)) :\n",
    "    if len(data_description_list.iloc[i]) > 9 and data_description_list.iloc[i] not in check_list:\n",
    "        data_description_list.iloc[i] = 'None'"
   ]
  },
  {
   "cell_type": "code",
   "execution_count": 73,
   "metadata": {
    "jupyter": {
     "source_hidden": true
    },
    "tags": []
   },
   "outputs": [],
   "source": [
    "#미리 만들어 놓은 데이터 \n",
    "Data = pd.read_csv('cat_data.csv')\n",
    "\n",
    "#order data를 year_month로 표현\n",
    "Data['year_month'] = pd.to_datetime(Data.order_date).dt.strftime(\"%Y-%m\")"
   ]
  },
  {
   "cell_type": "code",
   "execution_count": 38,
   "metadata": {
    "jupyter": {
     "source_hidden": true
    },
    "tags": []
   },
   "outputs": [
    {
     "data": {
      "text/plain": [
       "<matplotlib.legend.Legend at 0x7f476d698e90>"
      ]
     },
     "execution_count": 38,
     "metadata": {},
     "output_type": "execute_result"
    },
    {
     "data": {
      "image/png": "[encoded data removed]",
      "text/plain": [
       "<Figure size 1080x360 with 1 Axes>"
      ]
     },
     "metadata": {
      "needs_background": "light"
     },
     "output_type": "display_data"
    }
   ],
   "source": [
    "# 상위 7개 항목에 대한 그래프 \n",
    "a = Data['description']=='BAG'\n",
    "b = Data['description']=='BOX'\n",
    "c = Data['description']=='CAKE'\n",
    "d = Data['description']=='SIGN'\n",
    "e = Data['description']=='HOLDER'\n",
    "f = Data['description']=='TEA'\n",
    "g = Data['description']=='DOOR'\n",
    "df = Data[a|b|c|d|e|f|g]\n",
    "data_group_by_category = df.groupby([\"description\", \"year_month\"])\n",
    "\n",
    "product_categories = []\n",
    "order_monthes = []\n",
    "total_count = []\n",
    "for (description, order_month), group in data_group_by_category:\n",
    "    temp_count = 0\n",
    "    for i, data in group.iterrows():\n",
    "        temp_count += 1\n",
    "    product_categories.append(description)\n",
    "    order_monthes.append(order_month)\n",
    "    total_count.append(temp_count)\n",
    "\n",
    "data_category_month = pd.DataFrame({\n",
    "                                        \"description\": product_categories,\n",
    "                                        \"order_month\": order_monthes,\n",
    "                                        \"total_count\": total_count\n",
    "                                    })\n",
    "\n",
    "groups = data_category_month['description'].unique()\n",
    "for group_name in groups :   \n",
    "    df_sub = data_category_month[data_category_month['description'] == group_name]\n",
    "    # plotting    \n",
    "    plt.xticks(rotation=90)\n",
    "    plt.plot(df_sub.order_month, df_sub.total_count)\n",
    "plt.legend(groups)\n"
   ]
  },
  {
   "cell_type": "code",
   "execution_count": 75,
   "metadata": {
    "jupyter": {
     "source_hidden": true
    },
    "tags": []
   },
   "outputs": [
    {
     "data": {
      "text/plain": [
       "<matplotlib.legend.Legend at 0x7f476ddbcc50>"
      ]
     },
     "execution_count": 75,
     "metadata": {},
     "output_type": "execute_result"
    },
    {
     "data": {
      "image/png": "[encoded data removed]",
      "text/plain": [
       "<Figure size 1080x360 with 1 Axes>"
      ]
     },
     "metadata": {
      "needs_background": "light"
     },
     "output_type": "display_data"
    }
   ],
   "source": [
    "a = Data['description']=='DOOR'\n",
    "b = Data['description']=='VINTAGE'\n",
    "c = Data['description']=='CARD'\n",
    "d = Data['description']=='LIGHT'\n",
    "e = Data['description']=='BOTTLE'\n",
    "f = Data['description']=='CRAFT'\n",
    "g = Data['description']=='CANDLE'\n",
    "\n",
    "df = Data[a|b|c|d|e|f|g]\n",
    "\n",
    "data_group_by_category = df.groupby([\"description\", \"year_month\"])\n",
    "product_categories = []\n",
    "order_monthes = []\n",
    "total_count = []\n",
    "for (description, order_month), group in data_group_by_category:\n",
    "    temp_count = 0\n",
    "    for i, data in group.iterrows():\n",
    "        temp_count += 1\n",
    "    product_categories.append(description)\n",
    "    order_monthes.append(order_month)\n",
    "    total_count.append(temp_count)\n",
    "\n",
    "data_category_month = pd.DataFrame({\n",
    "                                        \"description\": product_categories,\n",
    "                                        \"order_month\": order_monthes,\n",
    "                                        \"total_count\": total_count\n",
    "                                    })\n",
    "\n",
    "groups = data_category_month['description'].unique()\n",
    "for group_name in groups :   \n",
    "\n",
    "    df_sub = data_category_month[data_category_month['description'] == group_name]\n",
    "    \n",
    "    # plotting    \n",
    "    plt.xticks(rotation=90)\n",
    "    plt.plot(df_sub.order_month, df_sub.total_count)\n",
    "plt.legend(groups)\n"
   ]
  },
  {
   "cell_type": "markdown",
   "metadata": {},
   "source": [
    "## 4.4 연도별 살펴보기"
   ]
  },
  {
   "cell_type": "markdown",
   "metadata": {},
   "source": [
    "#### 2009년과 2010년에만 구입을 한 고객이 있다. 이는 예측을 해야하는 인원에 포함된 인원으로 예측시 고려해야하는 부분이다."
   ]
  },
  {
   "cell_type": "code",
   "execution_count": 42,
   "metadata": {
    "jupyter": {
     "source_hidden": true
    },
    "tags": []
   },
   "outputs": [],
   "source": [
    "df = data.copy()    \n",
    "# year_month에 해당하는 label 데이터 생성\n",
    "df['year_month'] = df['order_date'].dt.strftime('%Y-%m')"
   ]
  },
  {
   "cell_type": "code",
   "execution_count": 43,
   "metadata": {
    "jupyter": {
     "source_hidden": true
    },
    "tags": []
   },
   "outputs": [],
   "source": [
    "total_list = data['customer_id'].unique()\n",
    "df_2009 = df[df['order_date'].dt.year == 2009]['customer_id'].unique()\n",
    "df_2010 = df[df['order_date'].dt.year == 2010]['customer_id'].unique()\n",
    "df_2011 = df[df['order_date'].dt.year == 2011]['customer_id'].unique()"
   ]
  },
  {
   "cell_type": "code",
   "execution_count": 44,
   "metadata": {
    "jupyter": {
     "source_hidden": true
    },
    "tags": []
   },
   "outputs": [
    {
     "name": "stdout",
     "output_type": "stream",
     "text": [
      "2009년 고객수 : 1045 명\n",
      "2010년 고객수 : 4289 명\n",
      "2011년 고객수 : 4197 명\n"
     ]
    }
   ],
   "source": [
    "# 연도별 이용자 수 \n",
    "print('2009년 고객수 :' ,len(df_2009),'명')\n",
    "print('2010년 고객수 :' ,len(df_2010),'명')\n",
    "print('2011년 고객수 :' ,len(df_2011),'명')"
   ]
  },
  {
   "cell_type": "code",
   "execution_count": 45,
   "metadata": {
    "jupyter": {
     "source_hidden": true
    },
    "tags": []
   },
   "outputs": [
    {
     "data": {
      "image/png": "[encoded data removed]",
      "text/plain": [
       "<Figure size 432x432 with 1 Axes>"
      ]
     },
     "metadata": {},
     "output_type": "display_data"
    }
   ],
   "source": [
    "from matplotlib_venn import venn3, venn3_circles,venn3_unweighted\n",
    "\n",
    "colors=['#ffefa1','#94ebcd','#6ddccf']\n",
    "plt.figure(figsize=(6,6))\n",
    "set1 = set(df_2009)\n",
    "set2 = set(df_2010)\n",
    "set3 = set(df_2011)\n",
    "\n",
    "v = venn3_unweighted([set1, set2, set3], ('2009', '2010', '2011'),set_colors=colors, alpha=0.7)\n",
    "for text in v.subset_labels:     \n",
    "    text.set_fontsize(15)    \n",
    "    \n",
    "for text in v.set_labels:    \n",
    "    text.set_fontsize(15)\n",
    "    text.set_fontweight('bold')\n",
    "plt.show()"
   ]
  },
  {
   "cell_type": "markdown",
   "metadata": {},
   "source": [
    "## 4.5 2010년 12월 데이터 살펴보기"
   ]
  },
  {
   "cell_type": "markdown",
   "metadata": {},
   "source": [
    "#### 2011년를 예측하기 위해, 데이터가 있는 2010년 12월에 대해서 살펴보고, 이를 바탕으로 2011년 12월 예측 설계를 세운다. 2010년의 'total' 경우 2009년 12월과 2010년 8~9월에 가장 많은 영향을 받았으며,\n",
    "#### 구입한 횟수에 대해서는 크게 상관 없음을 보였다."
   ]
  },
  {
   "cell_type": "code",
   "execution_count": 46,
   "metadata": {
    "jupyter": {
     "source_hidden": true
    },
    "tags": []
   },
   "outputs": [],
   "source": [
    "def make_time_series_data(Input, 기준):\n",
    "    \n",
    "    # 기준을 잡습니다. 기준은 여기서 %Y-%m 입니다.\n",
    "    standard = ['customer_id'] + [기준]\n",
    "    data = Input.copy()    \n",
    "    \n",
    "    \n",
    "    data[기준] = pd.to_datetime(train.order_date).dt.strftime(기준)    \n",
    "    data.order_date = pd.to_datetime(data.order_date)\n",
    "    \n",
    "    # 월단위의 틀을 만들어주고, 기준으로 aggregation을 해준 다음에 merge를 해줄 것입니다\n",
    "    times = pd.date_range('2009-12-01', periods= (data.order_date.max() - data.order_date.min()).days + 1, freq='1d')    \n",
    "    customerid_frame = np.repeat(data.customer_id.unique(), len(times))\n",
    "    date_frame = np.tile(times, len(data.customer_id.unique()))\n",
    "\n",
    "    frame = pd.DataFrame({'customer_id':customerid_frame,'order_date':date_frame})\n",
    "    frame[기준] = pd.to_datetime(frame.order_date).dt.strftime(기준)\n",
    "    \n",
    "    # group by\n",
    "    data_group = data.groupby(standard).sum().reset_index()\n",
    "    frame_group = frame.groupby(standard).count().reset_index().drop(['order_date'], axis=1)\n",
    "    \n",
    "    # merge\n",
    "    merge = pd.merge(frame_group, data_group, on=standard, how='left').fillna(0)\n",
    "    merge = merge.rename(columns={기준 : 'standard'})\n",
    "    return merge"
   ]
  },
  {
   "cell_type": "code",
   "execution_count": 47,
   "metadata": {
    "jupyter": {
     "source_hidden": true
    },
    "tags": []
   },
   "outputs": [],
   "source": [
    "train = data.copy()\n",
    "merge_temp = make_time_series_data(train, \"%Y-%m\")"
   ]
  },
  {
   "cell_type": "code",
   "execution_count": 49,
   "metadata": {
    "jupyter": {
     "source_hidden": true
    },
    "tags": []
   },
   "outputs": [],
   "source": [
    "corr = []\n",
    "for year_month in merge_temp.standard.unique()[:-12]:\n",
    "    corr_sub=np.corrcoef(merge_temp[merge_temp.standard == year_month].total, merge_temp[merge_temp.standard == \"2010-12\"].total)[0][1]\n",
    "    corr.append(corr_sub)"
   ]
  },
  {
   "cell_type": "code",
   "execution_count": 50,
   "metadata": {
    "jupyter": {
     "source_hidden": true
    },
    "tags": []
   },
   "outputs": [
    {
     "data": {
      "image/png": "[encoded data removed]",
      "text/plain": [
       "<Figure size 1080x360 with 1 Axes>"
      ]
     },
     "metadata": {
      "needs_background": "light"
     },
     "output_type": "display_data"
    }
   ],
   "source": [
    "plt.bar(x=merge_temp.standard.unique()[:-12], height=corr)\n",
    "plt.xticks(rotation=90)\n",
    "plt.title('total correlation between 2010-12');\n",
    "plt.tight_layout()"
   ]
  },
  {
   "cell_type": "code",
   "execution_count": 51,
   "metadata": {
    "jupyter": {
     "source_hidden": true
    },
    "tags": []
   },
   "outputs": [],
   "source": [
    "train['year_month'] = pd.to_datetime(train.order_date).dt.strftime(\"%Y-%m\")\n",
    "standard = ['customer_id','year_month']\n",
    "merge_temp = pd.merge(merge_temp, train.groupby(['customer_id','year_month']).count().reset_index()[standard + ['order_id']],\n",
    "         left_on=['customer_id','standard'],\n",
    "         right_on=['customer_id','year_month'], how='left').fillna(0)"
   ]
  },
  {
   "cell_type": "code",
   "execution_count": 52,
   "metadata": {
    "jupyter": {
     "source_hidden": true
    },
    "tags": []
   },
   "outputs": [],
   "source": [
    "train.groupby(['customer_id','year_month']).count().reset_index()[standard + ['order_id']]\n",
    "merge_temp = merge_temp.rename(columns={'order_id':'order_count'})"
   ]
  },
  {
   "cell_type": "code",
   "execution_count": 53,
   "metadata": {
    "jupyter": {
     "source_hidden": true
    },
    "tags": []
   },
   "outputs": [],
   "source": [
    "corr = []\n",
    "for year_month in merge_temp.standard.unique()[:-12]:\n",
    "    corr_sub=np.corrcoef(merge_temp[merge_temp.standard == year_month].order_count,\n",
    "                         merge_temp[merge_temp.standard == \"2010-12\"].total)[0][1]\n",
    "    corr.append(corr_sub)"
   ]
  },
  {
   "cell_type": "code",
   "execution_count": 54,
   "metadata": {
    "jupyter": {
     "source_hidden": true
    },
    "tags": []
   },
   "outputs": [
    {
     "data": {
      "image/png": "[encoded data removed]",
      "text/plain": [
       "<Figure size 1080x360 with 1 Axes>"
      ]
     },
     "metadata": {
      "needs_background": "light"
     },
     "output_type": "display_data"
    }
   ],
   "source": [
    "plt.bar(x=merge_temp.standard.unique()[:-12], height=corr)\n",
    "plt.xticks(rotation=90)\n",
    "plt.title('total count correlation between 2011-11');\n",
    "plt.tight_layout()"
   ]
  },
  {
   "cell_type": "markdown",
   "metadata": {},
   "source": [
    "## 4.6 Customer data describe"
   ]
  },
  {
   "cell_type": "markdown",
   "metadata": {},
   "source": [
    "### 고객별 구매한 시기와 total를 볼 경우, 매우 다양함을 확인 할 수 있다."
   ]
  },
  {
   "cell_type": "code",
   "execution_count": 66,
   "metadata": {
    "collapsed": true,
    "jupyter": {
     "outputs_hidden": true,
     "source_hidden": true
    },
    "tags": []
   },
   "outputs": [
    {
     "data": {
      "text/html": [
       "<div>\n",
       "<style scoped>\n",
       "    .dataframe tbody tr th:only-of-type {\n",
       "        vertical-align: middle;\n",
       "    }\n",
       "\n",
       "    .dataframe tbody tr th {\n",
       "        vertical-align: top;\n",
       "    }\n",
       "\n",
       "    .dataframe thead th {\n",
       "        text-align: right;\n",
       "    }\n",
       "</style>\n",
       "<table border=\"1\" class=\"dataframe\">\n",
       "  <thead>\n",
       "    <tr style=\"text-align: right;\">\n",
       "      <th></th>\n",
       "      <th>customer_id</th>\n",
       "      <th>standard</th>\n",
       "      <th>quantity</th>\n",
       "      <th>price</th>\n",
       "      <th>total</th>\n",
       "      <th>year_month</th>\n",
       "      <th>order_count</th>\n",
       "    </tr>\n",
       "  </thead>\n",
       "  <tbody>\n",
       "    <tr>\n",
       "      <th>67887</th>\n",
       "      <td>15189</td>\n",
       "      <td>2011-03</td>\n",
       "      <td>230.0</td>\n",
       "      <td>226.8420</td>\n",
       "      <td>1317.5745</td>\n",
       "      <td>2011-03</td>\n",
       "      <td>25.0</td>\n",
       "    </tr>\n",
       "    <tr>\n",
       "      <th>90006</th>\n",
       "      <td>16117</td>\n",
       "      <td>2010-06</td>\n",
       "      <td>0.0</td>\n",
       "      <td>0.0000</td>\n",
       "      <td>0.0000</td>\n",
       "      <td>0</td>\n",
       "      <td>0.0</td>\n",
       "    </tr>\n",
       "    <tr>\n",
       "      <th>10919</th>\n",
       "      <td>12807</td>\n",
       "      <td>2011-11</td>\n",
       "      <td>0.0</td>\n",
       "      <td>0.0000</td>\n",
       "      <td>0.0000</td>\n",
       "      <td>0</td>\n",
       "      <td>0.0</td>\n",
       "    </tr>\n",
       "    <tr>\n",
       "      <th>105291</th>\n",
       "      <td>16756</td>\n",
       "      <td>2010-03</td>\n",
       "      <td>238.0</td>\n",
       "      <td>60.7200</td>\n",
       "      <td>451.3410</td>\n",
       "      <td>2010-03</td>\n",
       "      <td>19.0</td>\n",
       "    </tr>\n",
       "    <tr>\n",
       "      <th>76607</th>\n",
       "      <td>15556</td>\n",
       "      <td>2011-11</td>\n",
       "      <td>236.0</td>\n",
       "      <td>91.5585</td>\n",
       "      <td>461.6205</td>\n",
       "      <td>2011-11</td>\n",
       "      <td>31.0</td>\n",
       "    </tr>\n",
       "    <tr>\n",
       "      <th>86594</th>\n",
       "      <td>15974</td>\n",
       "      <td>2010-02</td>\n",
       "      <td>0.0</td>\n",
       "      <td>0.0000</td>\n",
       "      <td>0.0000</td>\n",
       "      <td>0</td>\n",
       "      <td>0.0</td>\n",
       "    </tr>\n",
       "    <tr>\n",
       "      <th>15926</th>\n",
       "      <td>13016</td>\n",
       "      <td>2011-02</td>\n",
       "      <td>0.0</td>\n",
       "      <td>0.0000</td>\n",
       "      <td>0.0000</td>\n",
       "      <td>0</td>\n",
       "      <td>0.0</td>\n",
       "    </tr>\n",
       "    <tr>\n",
       "      <th>94003</th>\n",
       "      <td>16283</td>\n",
       "      <td>2011-07</td>\n",
       "      <td>233.0</td>\n",
       "      <td>94.3800</td>\n",
       "      <td>321.1890</td>\n",
       "      <td>2011-07</td>\n",
       "      <td>32.0</td>\n",
       "    </tr>\n",
       "    <tr>\n",
       "      <th>42138</th>\n",
       "      <td>14114</td>\n",
       "      <td>2011-06</td>\n",
       "      <td>0.0</td>\n",
       "      <td>0.0000</td>\n",
       "      <td>0.0000</td>\n",
       "      <td>0</td>\n",
       "      <td>0.0</td>\n",
       "    </tr>\n",
       "    <tr>\n",
       "      <th>134532</th>\n",
       "      <td>17978</td>\n",
       "      <td>2010-12</td>\n",
       "      <td>499.0</td>\n",
       "      <td>46.7940</td>\n",
       "      <td>496.5180</td>\n",
       "      <td>2010-12</td>\n",
       "      <td>12.0</td>\n",
       "    </tr>\n",
       "  </tbody>\n",
       "</table>\n",
       "</div>"
      ],
      "text/plain": [
       "        customer_id standard  quantity     price      total year_month  \\\n",
       "67887         15189  2011-03     230.0  226.8420  1317.5745    2011-03   \n",
       "90006         16117  2010-06       0.0    0.0000     0.0000          0   \n",
       "10919         12807  2011-11       0.0    0.0000     0.0000          0   \n",
       "105291        16756  2010-03     238.0   60.7200   451.3410    2010-03   \n",
       "76607         15556  2011-11     236.0   91.5585   461.6205    2011-11   \n",
       "86594         15974  2010-02       0.0    0.0000     0.0000          0   \n",
       "15926         13016  2011-02       0.0    0.0000     0.0000          0   \n",
       "94003         16283  2011-07     233.0   94.3800   321.1890    2011-07   \n",
       "42138         14114  2011-06       0.0    0.0000     0.0000          0   \n",
       "134532        17978  2010-12     499.0   46.7940   496.5180    2010-12   \n",
       "\n",
       "        order_count  \n",
       "67887          25.0  \n",
       "90006           0.0  \n",
       "10919           0.0  \n",
       "105291         19.0  \n",
       "76607          31.0  \n",
       "86594           0.0  \n",
       "15926           0.0  \n",
       "94003          32.0  \n",
       "42138           0.0  \n",
       "134532         12.0  "
      ]
     },
     "execution_count": 66,
     "metadata": {},
     "output_type": "execute_result"
    }
   ],
   "source": [
    "merge_temp.sample(10)"
   ]
  },
  {
   "cell_type": "code",
   "execution_count": 71,
   "metadata": {
    "jupyter": {
     "source_hidden": true
    },
    "tags": []
   },
   "outputs": [
    {
     "data": {
      "image/png": "[encoded data removed]",
      "text/plain": [
       "<Figure size 1080x360 with 1 Axes>"
      ]
     },
     "metadata": {
      "needs_background": "light"
     },
     "output_type": "display_data"
    }
   ],
   "source": [
    "customer_id_list = [12394,12396,12355]\n",
    "\n",
    "for customer_id in customer_id_list:\n",
    "    temp = merge_temp[merge_temp.customer_id == customer_id][[\"standard\",'total']]\n",
    "    plt.plot(temp.standard, temp.total, label=\"customer_id : \" + str(customer_id))       \n",
    "    plt.legend()\n",
    "    plt.xticks(rotation=90)\n",
    "    plt.title(\"total\", size=20)\n",
    "    plt.tight_layout()"
   ]
  }
 ],
 "metadata": {
  "kernelspec": {
   "display_name": "Python 3",
   "language": "python",
   "name": "python3"
  },
  "language_info": {
   "codemirror_mode": {
    "name": "ipython",
    "version": 3
   },
   "file_extension": ".py",
   "mimetype": "text/x-python",
   "name": "python",
   "nbconvert_exporter": "python",
   "pygments_lexer": "ipython3",
   "version": "3.8.3"
  },
  "toc-autonumbering": false,
  "toc-showcode": true,
  "toc-showmarkdowntxt": false
 },
 "nbformat": 4,
 "nbformat_minor": 5
}
